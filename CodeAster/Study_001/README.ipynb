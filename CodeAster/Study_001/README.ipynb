{
 "cells": [
  {
   "attachments": {},
   "cell_type": "markdown",
   "metadata": {},
   "source": [
    "![Synopsis](https://raw.githubusercontent.com/scimulate/Tutorials/1ee33f507a6f833662b3e8b8cc4cff0f7a17df2f/CodeAster/Study_001/images/TestCases.svg)"
   ]
  },
  {
   "cell_type": "markdown",
   "metadata": {},
   "source": [
    "# Study_001\n",
    "## Synopsis\n",
    "This study is a 1/8th model (symetric about XY, YZ, and ZX) of a plate with an unloaded central hole. Both ends of the plate are under tension along the x-axis.\n",
    "## Dimensions\n",
    "The sliced model has dimensions of 0.25m x 0.10m x 0.01m. The full model will be twice of each dimension (0.50m x 0.20m x 0.02m). The center hole has a radius of 0.05m.\n",
    "## Loading\n",
    "The +X normal surface is loaded uniformly across its face at 1.0e5 N/m2.\n",
    "## Solution\n"
   ]
  },
  {
   "cell_type": "code",
   "execution_count": null,
   "metadata": {},
   "outputs": [],
   "source": []
  }
 ],
 "metadata": {
  "kernelspec": {
   "display_name": "Python 3",
   "language": "python",
   "name": "python3"
  },
  "language_info": {
   "codemirror_mode": {
    "name": "ipython",
    "version": 3
   },
   "file_extension": ".py",
   "mimetype": "text/x-python",
   "name": "python",
   "nbconvert_exporter": "python",
   "pygments_lexer": "ipython3",
   "version": "3.8.10"
  }
 },
 "nbformat": 4,
 "nbformat_minor": 4
}
