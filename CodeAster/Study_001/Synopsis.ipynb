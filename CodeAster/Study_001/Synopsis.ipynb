{
 "cells": [
  {
   "cell_type": "markdown",
   "metadata": {},
   "source": [
    "![Synopsis](https://raw.githubusercontent.com/scimulate/Tutorials/cb6b7f51b62ca97ccec203afa3ac2e9e04da33fc/CodeAster/Study_001/images/TestCases.svg)"
   ]
  },
  {
   "cell_type": "markdown",
   "metadata": {},
   "source": [
    "# Study_001\n",
    "## Synopsis\n",
    "This study is a 1/8th model (symetric about XY, YZ, and ZX) of a plate with an unloaded central hole. Both ends of the plate are under tension along the x-axis. asdf\n",
    "\n",
    "## Material Properties"
   ]
  },
  {
   "cell_type": "code",
   "execution_count": null,
   "metadata": {},
   "outputs": [],
   "source": [
    "alum6061 = DEFI_MATERIAU(ELAS=_F(E=6.89e+9, NU=3.30e-1, RHO=2.70e+3)) # [N/m**2, Unitless, kg/m**3]"
   ]
  },
  {
   "cell_type": "markdown",
   "metadata": {},
   "source": [
    "## Dimensions\n",
    "The sliced model has dimensions of 0.25m x 0.10m x 0.01m. The full model will be twice of each dimension (0.50m x 0.20m x 0.02m). The center hole has a radius of 0.05m.\n",
    "## Loading\n",
    "The +X normal surface is loaded uniformly across its face at 1.0e5 N/m2.\n",
    "## Solution"
   ]
  },
  {
   "cell_type": "code",
   "execution_count": null,
   "metadata": {},
   "outputs": [],
   "source": []
  }
 ],
 "metadata": {
  "kernelspec": {
   "display_name": "Python 3",
   "language": "python",
   "name": "python3"
  },
  "language_info": {
   "codemirror_mode": {
    "name": "ipython",
    "version": 3
   },
   "file_extension": ".py",
   "mimetype": "text/x-python",
   "name": "python",
   "nbconvert_exporter": "python",
   "pygments_lexer": "ipython3",
   "version": "3.8.10"
  }
 },
 "nbformat": 4,
 "nbformat_minor": 4
}
