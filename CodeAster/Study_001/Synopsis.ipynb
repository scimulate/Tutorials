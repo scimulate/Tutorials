{
 "cells": [
  {
   "cell_type": "markdown",
   "metadata": {},
   "source": [
    "![Synopsis](https://raw.githubusercontent.com/scimulate/Tutorials/cb6b7f51b62ca97ccec203afa3ac2e9e04da33fc/CodeAster/Study_001/images/TestCases.svg)"
   ]
  },
  {
   "cell_type": "markdown",
   "metadata": {},
   "source": [
    "# Synopsis\n",
    "This study is a 1/8<sup>th</sup> model (symetric about XY, YZ, and ZX) of a plate with an unloaded central hole. Both x-normal surfaces of the full plate are under simple tension.\n",
    "\n",
    "**Note:** unless otherwise specified, all units are in MKS.\n",
    "# Material Properties"
   ]
  },
  {
   "cell_type": "code",
   "execution_count": null,
   "metadata": {},
   "outputs": [],
   "source": [
    "alum6061 = DEFI_MATERIAU(ELAS=_F(E=6.89e+9,\n",
    "                                 NU=3.30e-1,\n",
    "                                 RHO=2.70e+3))\n",
    "\n",
    "fieldmat = AFFE_MATERIAU(AFFE=_F(MATER=(alum6061),\n",
    "                                 TOUT='OUI'),\n",
    "                         MODELE=model)"
   ]
  },
  {
   "cell_type": "markdown",
   "metadata": {},
   "source": [
    "# Boundary Conditions\n",
    "Each symmetrical surface has been labeled according to its respective normal axis (```XFix```, ```YFix```, and ```ZFix```). This simplifies assigning displacement boundary conditions to a trivial matter of matching letters ```X```, ```Y```, and ```Z```."
   ]
  },
  {
   "cell_type": "code",
   "execution_count": null,
   "metadata": {},
   "outputs": [],
   "source": [
    "boundary = AFFE_CHAR_MECA(FACE_IMPO=(_F(DX=0.0,\n",
    "                                        GROUP_MA=('XFix')),\n",
    "                                     _F(DY=0.0,\n",
    "                                        GROUP_MA=('YFix')),\n",
    "                                     _F(DZ=0.0,\n",
    "                                        GROUP_MA=('ZFix'))),\n",
    "                          MODELE=model)"
   ]
  },
  {
   "cell_type": "markdown",
   "metadata": {},
   "source": [
    "# Loading\n",
    "A uniform surface load (```FORCE_FACE```) of 0.1MPa has been applied to the unconstrained x-axis normal surface ```LoadFace```."
   ]
  },
  {
   "cell_type": "code",
   "execution_count": null,
   "metadata": {},
   "outputs": [],
   "source": [
    "load = AFFE_CHAR_MECA(FORCE_FACE=_F(FX=1.0e5,\n",
    "                                    GROUP_MA=('LoadFace')),\n",
    "                       MODELE=model)"
   ]
  },
  {
   "cell_type": "markdown",
   "metadata": {},
   "source": [
    "With a cross-sectional area of 1.0e-3m<sup>2</sup> for the 1/8<sup>th</sup> model, this corresponds to a load of 100N (full load of 400N). (**Note:** In this context, a 1/8<sup>th</sup> model will have 1/4<sup>th</sup> of the cross-sectional area.)"
   ]
  },
  {
   "cell_type": "markdown",
   "metadata": {},
   "source": [
    "# Solution\n",
    "Along the x-axis and away from the hole, plate stress should approach the applied uniform surface load. On plane YZ, the stress concentration is a function of $r/D$.\n",
    "\n",
    "![Stress Concentration](https://i.stack.imgur.com/b0GVl.png)\n",
    "\n",
    "This stress concentration factor, _K_, compounds an already elevated stress on plane YZ due to a reduction in cross-sectional area.\n",
    "\n",
    "$$\n",
    "A_{xc} = (\\Delta y-r)*\\Delta z\n",
    "$$\n",
    "\n",
    "$$\n",
    "\\sigma_{nom} = P/A_{xc}\n",
    "$$\n",
    "\n",
    "Excluding the stress concentration factor, $r/D=0.25 $ $K \\approx 2.45$, the nominal stress on plane YZ should be"
   ]
  },
  {
   "cell_type": "code",
   "execution_count": 1,
   "metadata": {},
   "outputs": [
    {
     "name": "stdout",
     "output_type": "stream",
     "text": [
      "200000.0\n"
     ]
    }
   ],
   "source": [
    "dy = 0.10   # [m]\n",
    "dz = 0.01   # [m]\n",
    "r = 0.05    # [m]\n",
    "load = 100  # [N]\n",
    "\n",
    "area = (dy-r)*dz      # [m**2]\n",
    "stressNom = load/area # [N/m**2]\n",
    "print(round(stressNom, 1))"
   ]
  },
  {
   "cell_type": "markdown",
   "metadata": {},
   "source": [
    "Including the stress concentration factor, the maximum stress ($\\sigma_{max}$), which should occur where the hole surface meets plane YZ, adheres to the relationship\n",
    "\n",
    "$$\n",
    "\\sigma_{max} = K\\sigma_{nom}.\n",
    "$$"
   ]
  },
  {
   "cell_type": "code",
   "execution_count": 2,
   "metadata": {},
   "outputs": [
    {
     "name": "stdout",
     "output_type": "stream",
     "text": [
      "490000.0\n"
     ]
    }
   ],
   "source": [
    "k = 2.45\n",
    "stressMax = k*stressNom\n",
    "print(round(stressMax, 1))"
   ]
  },
  {
   "cell_type": "markdown",
   "metadata": {},
   "source": [
    "$\\sigma _{max}$, differs between the textbook calculations and finite element results 10.75%. As expected, the textbook calculations are higher as the empirical curve is likely conservative."
   ]
  }
 ],
 "metadata": {
  "kernelspec": {
   "display_name": "Python 3",
   "language": "python",
   "name": "python3"
  },
  "language_info": {
   "codemirror_mode": {
    "name": "ipython",
    "version": 3
   },
   "file_extension": ".py",
   "mimetype": "text/x-python",
   "name": "python",
   "nbconvert_exporter": "python",
   "pygments_lexer": "ipython3",
   "version": "3.8.10"
  }
 },
 "nbformat": 4,
 "nbformat_minor": 4
}
